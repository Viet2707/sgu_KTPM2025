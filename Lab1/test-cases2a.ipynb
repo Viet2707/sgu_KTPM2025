{
 "cells": [
  {
   "cell_type": "code",
   "execution_count": 2,
   "id": "4eedba76",
   "metadata": {},
   "outputs": [
    {
     "name": "stdout",
     "output_type": "stream",
     "text": [
      "Test case  : 22\n"
     ]
    }
   ],
   "source": [
    "!g++ test-cases2a.cpp -o test-cases2a\n",
    "!echo 11 | test-cases2a.exe"
   ]
  },
  {
   "cell_type": "code",
   "execution_count": 3,
   "id": "23f21f71",
   "metadata": {},
   "outputs": [
    {
     "name": "stdout",
     "output_type": "stream",
     "text": [
      "Test case  : -10\n"
     ]
    }
   ],
   "source": [
    "!g++ test-cases2a.cpp -o test-cases2a\n",
    "!echo 10 | test-cases2a.exe"
   ]
  },
  {
   "cell_type": "code",
   "execution_count": null,
   "id": "4df288f6",
   "metadata": {},
   "outputs": [
    {
     "name": "stdout",
     "output_type": "stream",
     "text": [
      "Test case  : 0\n"
     ]
    }
   ],
   "source": [
    "!g++ test-cases2a.cpp -o test-cases2a\n",
    "!echo -7 | test-cases2a.exe"
   ]
  }
 ],
 "metadata": {
  "kernelspec": {
   "display_name": "base",
   "language": "python",
   "name": "python3"
  },
  "language_info": {
   "codemirror_mode": {
    "name": "ipython",
    "version": 3
   },
   "file_extension": ".py",
   "mimetype": "text/x-python",
   "name": "python",
   "nbconvert_exporter": "python",
   "pygments_lexer": "ipython3",
   "version": "3.11.9"
  }
 },
 "nbformat": 4,
 "nbformat_minor": 5
}

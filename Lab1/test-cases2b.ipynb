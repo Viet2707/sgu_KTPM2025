{
 "cells": [
  {
   "cell_type": "code",
   "execution_count": 1,
   "id": "1033b1b3",
   "metadata": {},
   "outputs": [
    {
     "name": "stdout",
     "output_type": "stream",
     "text": [
      "Test case  : 22\n"
     ]
    }
   ],
   "source": [
    "!g++ test-cases2b.cpp -o test-cases2b\n",
    "!echo 11 | test-cases2b.exe"
   ]
  },
  {
   "cell_type": "code",
   "execution_count": 4,
   "id": "d6a8e011",
   "metadata": {},
   "outputs": [
    {
     "name": "stdout",
     "output_type": "stream",
     "text": [
      "Test case  : -10\n"
     ]
    }
   ],
   "source": [
    "!g++ test-cases2b.cpp -o test-cases2b\n",
    "!echo 10 | test-cases2b.exe"
   ]
  },
  {
   "cell_type": "code",
   "execution_count": 6,
   "id": "56b99707",
   "metadata": {},
   "outputs": [
    {
     "name": "stdout",
     "output_type": "stream",
     "text": [
      "Test case  : -14\n"
     ]
    }
   ],
   "source": [
    "!g++ test-cases2b.cpp -o test-cases2b\n",
    "!echo -7 | test-cases2b.exe"
   ]
  }
 ],
 "metadata": {
  "kernelspec": {
   "display_name": "base",
   "language": "python",
   "name": "python3"
  },
  "language_info": {
   "codemirror_mode": {
    "name": "ipython",
    "version": 3
   },
   "file_extension": ".py",
   "mimetype": "text/x-python",
   "name": "python",
   "nbconvert_exporter": "python",
   "pygments_lexer": "ipython3",
   "version": "3.11.9"
  }
 },
 "nbformat": 4,
 "nbformat_minor": 5
}

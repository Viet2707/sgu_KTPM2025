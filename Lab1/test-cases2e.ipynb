{
 "cells": [
  {
   "cell_type": "code",
   "execution_count": 3,
   "id": "60f3c77d",
   "metadata": {},
   "outputs": [
    {
     "name": "stdout",
     "output_type": "stream",
     "text": [
      "7\n"
     ]
    }
   ],
   "source": [
    "!g++ test-cases2e.cpp -o test-cases2e\n",
    "!echo 3 5 7 | test-cases2e.exe"
   ]
  },
  {
   "cell_type": "code",
   "execution_count": 4,
   "id": "8f9a572a",
   "metadata": {},
   "outputs": [
    {
     "name": "stdout",
     "output_type": "stream",
     "text": [
      "7\n"
     ]
    }
   ],
   "source": [
    "!g++ test-cases2e.cpp -o test-cases2e\n",
    "!echo 7 5 3 | test-cases2e.exe"
   ]
  },
  {
   "cell_type": "code",
   "execution_count": null,
   "id": "da1c77c2",
   "metadata": {},
   "outputs": [
    {
     "name": "stdout",
     "output_type": "stream",
     "text": [
      "7\n"
     ]
    }
   ],
   "source": [
    "!g++ test-cases2e.cpp -o test-cases2e\n",
    "!echo 3 7 5 | test-cases2e.exe"
   ]
  },
  {
   "cell_type": "code",
   "execution_count": 8,
   "id": "44d32eba",
   "metadata": {},
   "outputs": [
    {
     "name": "stdout",
     "output_type": "stream",
     "text": [
      "0\n"
     ]
    }
   ],
   "source": [
    "!g++ test-cases2e.cpp -o test-cases2e\n",
    "!echo 3 5 5 | test-cases2e.exe"
   ]
  },
  {
   "cell_type": "code",
   "execution_count": 15,
   "id": "70560a85",
   "metadata": {},
   "outputs": [
    {
     "name": "stdout",
     "output_type": "stream",
     "text": [
      "5\n"
     ]
    }
   ],
   "source": [
    "!g++ test-cases2e.cpp -o test-cases2e\n",
    "!echo 5 3 3 | test-cases2e.exe"
   ]
  },
  {
   "cell_type": "code",
   "execution_count": 10,
   "id": "ed7e3030",
   "metadata": {},
   "outputs": [
    {
     "name": "stdout",
     "output_type": "stream",
     "text": [
      "0\n"
     ]
    }
   ],
   "source": [
    "!g++ test-cases2e.cpp -o test-cases2e\n",
    "!echo 5 5 3 | test-cases2e.exe"
   ]
  },
  {
   "cell_type": "code",
   "execution_count": 18,
   "id": "8f9476e0",
   "metadata": {},
   "outputs": [
    {
     "name": "stdout",
     "output_type": "stream",
     "text": [
      "0\n"
     ]
    }
   ],
   "source": [
    "!g++ test-cases2e.cpp -o test-cases2e\n",
    "!echo 5 3 5 | test-cases2e.exe"
   ]
  },
  {
   "cell_type": "code",
   "execution_count": 12,
   "id": "ef315643",
   "metadata": {},
   "outputs": [
    {
     "name": "stdout",
     "output_type": "stream",
     "text": [
      "0\n"
     ]
    }
   ],
   "source": [
    "!g++ test-cases2e.cpp -o test-cases2e\n",
    "!echo 5 5 5 | test-cases2e.exe"
   ]
  },
  {
   "cell_type": "code",
   "execution_count": 27,
   "id": "45d51324",
   "metadata": {},
   "outputs": [
    {
     "name": "stdout",
     "output_type": "stream",
     "text": [
      "-1\n"
     ]
    }
   ],
   "source": [
    "!g++ test-cases2e.cpp -o test-cases2e\n",
    "!echo -2 -1 -3 | test-cases2e.exe"
   ]
  }
 ],
 "metadata": {
  "kernelspec": {
   "display_name": "base",
   "language": "python",
   "name": "python3"
  },
  "language_info": {
   "codemirror_mode": {
    "name": "ipython",
    "version": 3
   },
   "file_extension": ".py",
   "mimetype": "text/x-python",
   "name": "python",
   "nbconvert_exporter": "python",
   "pygments_lexer": "ipython3",
   "version": "3.11.9"
  }
 },
 "nbformat": 4,
 "nbformat_minor": 5
}

{
 "cells": [
  {
   "cell_type": "code",
   "execution_count": 1,
   "id": "c04d5186",
   "metadata": {},
   "outputs": [
    {
     "name": "stdout",
     "output_type": "stream",
     "text": [
      "Test case  : 18\n"
     ]
    }
   ],
   "source": [
    "!g++ test-cases2c.cpp -o test-cases2c\n",
    "!echo 9 | test-cases2c.exe"
   ]
  },
  {
   "cell_type": "code",
   "execution_count": 2,
   "id": "f36df8c1",
   "metadata": {},
   "outputs": [
    {
     "name": "stdout",
     "output_type": "stream",
     "text": [
      "Test case  : -2\n"
     ]
    }
   ],
   "source": [
    "!g++ test-cases2c.cpp -o test-cases2c\n",
    "!echo -1 | test-cases2c.exe"
   ]
  },
  {
   "cell_type": "code",
   "execution_count": 4,
   "id": "547dacba",
   "metadata": {},
   "outputs": [
    {
     "name": "stdout",
     "output_type": "stream",
     "text": [
      "Test case  : 20\n"
     ]
    }
   ],
   "source": [
    "!g++ test-cases2c.cpp -o test-cases2c\n",
    "!echo 10 | test-cases2c.exe"
   ]
  }
 ],
 "metadata": {
  "kernelspec": {
   "display_name": "base",
   "language": "python",
   "name": "python3"
  },
  "language_info": {
   "codemirror_mode": {
    "name": "ipython",
    "version": 3
   },
   "file_extension": ".py",
   "mimetype": "text/x-python",
   "name": "python",
   "nbconvert_exporter": "python",
   "pygments_lexer": "ipython3",
   "version": "3.11.9"
  }
 },
 "nbformat": 4,
 "nbformat_minor": 5
}

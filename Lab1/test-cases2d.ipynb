{
 "cells": [
  {
   "cell_type": "code",
   "execution_count": null,
   "id": "9fcc00e1",
   "metadata": {},
   "outputs": [
    {
     "name": "stdout",
     "output_type": "stream",
     "text": [
      "Test case  : 360\n"
     ]
    }
   ],
   "source": [
    "!g++ test-cases2d.cpp -o test-cases2d\n",
    "!echo 180 | test-cases2d.exe    "
   ]
  },
  {
   "cell_type": "code",
   "execution_count": 3,
   "id": "455bacf1",
   "metadata": {},
   "outputs": [
    {
     "name": "stdout",
     "output_type": "stream",
     "text": [
      "Test case  : 2\n"
     ]
    }
   ],
   "source": [
    "!g++ test-cases2d.cpp -o test-cases2d\n",
    "!echo 1 | test-cases2d.exe  "
   ]
  },
  {
   "cell_type": "code",
   "execution_count": 4,
   "id": "58810873",
   "metadata": {},
   "outputs": [
    {
     "name": "stdout",
     "output_type": "stream",
     "text": [
      "Test case  : 60\n"
     ]
    }
   ],
   "source": [
    "!g++ test-cases2d.cpp -o test-cases2d\n",
    "!echo 30 | test-cases2d.exe  "
   ]
  },
  {
   "cell_type": "code",
   "execution_count": 2,
   "id": "1520a644",
   "metadata": {},
   "outputs": [
    {
     "name": "stdout",
     "output_type": "stream",
     "text": [
      "Test case  : 0\n"
     ]
    }
   ],
   "source": [
    "!g++ test-cases2d.cpp -o test-cases2d\n",
    "!echo 0 | test-cases2d.exe"
   ]
  }
 ],
 "metadata": {
  "kernelspec": {
   "display_name": "base",
   "language": "python",
   "name": "python3"
  },
  "language_info": {
   "codemirror_mode": {
    "name": "ipython",
    "version": 3
   },
   "file_extension": ".py",
   "mimetype": "text/x-python",
   "name": "python",
   "nbconvert_exporter": "python",
   "pygments_lexer": "ipython3",
   "version": "3.11.9"
  }
 },
 "nbformat": 4,
 "nbformat_minor": 5
}

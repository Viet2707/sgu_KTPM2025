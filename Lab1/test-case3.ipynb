{
 "cells": [
  {
   "cell_type": "code",
   "execution_count": null,
   "id": "a0a48f9e",
   "metadata": {},
   "outputs": [
    {
     "name": "stdout",
     "output_type": "stream",
     "text": [
      " Infinite solutions.\n"
     ]
    }
   ],
   "source": [
    "!g++ test-case3.cpp -o test-case3\n",
    "!echo \"Test Case 1:\"\n",
    "!echo 0 0 0 | test-case3.exe    "
   ]
  },
  {
   "cell_type": "code",
   "execution_count": null,
   "id": "4ebc5c40",
   "metadata": {},
   "outputs": [
    {
     "name": "stdout",
     "output_type": "stream",
     "text": [
      "No solution.\n"
     ]
    }
   ],
   "source": [
    "!g++ test-case3.cpp -o test-case3\n",
    "!echo \"Test Case 2:\"\n",
    "!echo 0 0 1 | test-case3.exe"
   ]
  },
  {
   "cell_type": "code",
   "execution_count": null,
   "id": "7035bbb9",
   "metadata": {},
   "outputs": [
    {
     "name": "stdout",
     "output_type": "stream",
     "text": [
      "No solution.\n"
     ]
    }
   ],
   "source": [
    "!g++ test-case3.cpp -o test-case3\n",
    "!echo \"Test Case 3:\"\n",
    "!echo 0 1 2 | test-case3.exe"
   ]
  },
  {
   "cell_type": "code",
   "execution_count": null,
   "id": "27ec6abc",
   "metadata": {},
   "outputs": [
    {
     "name": "stdout",
     "output_type": "stream",
     "text": [
      " The equation has 2 real solution(s): 2 -2 \n"
     ]
    }
   ],
   "source": [
    "!g++ test-case3.cpp -o test-case3\n",
    "!echo \"Test Case 4:\"\n",
    "!echo 0 1 -4 | test-case3.exe"
   ]
  },
  {
   "cell_type": "code",
   "execution_count": null,
   "id": "3cf49c55",
   "metadata": {},
   "outputs": [
    {
     "name": "stdout",
     "output_type": "stream",
     "text": [
      " The equation has 2 real solution(s): 1 -1 \n"
     ]
    }
   ],
   "source": [
    "!g++ test-case3.cpp -o test-case3\n",
    "!echo \"Test Case 5:\"\n",
    "!echo 1 0 -1 | test-case3.exe"
   ]
  },
  {
   "cell_type": "code",
   "execution_count": null,
   "id": "fe71410c",
   "metadata": {},
   "outputs": [
    {
     "name": "stdout",
     "output_type": "stream",
     "text": [
      "No solution.\n"
     ]
    }
   ],
   "source": [
    "!g++ test-case3.cpp -o test-case3\n",
    "!echo \"Test Case 6:\"\n",
    "!echo 1 2 1 | test-case3.exe"
   ]
  },
  {
   "cell_type": "code",
   "execution_count": null,
   "id": "01e01fcf",
   "metadata": {},
   "outputs": [
    {
     "name": "stdout",
     "output_type": "stream",
     "text": [
      " The equation has 4 real solution(s): 1.41421 -1.41421 0 -0 \n"
     ]
    }
   ],
   "source": [
    "!g++ test-case3.cpp -o test-case3\n",
    "!echo \"Test Case 7:\"\n",
    "!echo 1 -2 0 | test-case3.exe"
   ]
  },
  {
   "cell_type": "code",
   "execution_count": null,
   "id": "f0eac458",
   "metadata": {},
   "outputs": [
    {
     "name": "stdout",
     "output_type": "stream",
     "text": [
      " The equation has 2 real solution(s): 1.41421 -1.41421 \n"
     ]
    }
   ],
   "source": [
    "!g++ test-case3.cpp -o test-case3\n",
    "!echo \"Test Case 8:\"\n",
    "!echo 1 0 -4 | test-case3.exe"
   ]
  },
  {
   "cell_type": "code",
   "execution_count": null,
   "id": "af7d90c2",
   "metadata": {},
   "outputs": [
    {
     "name": "stdout",
     "output_type": "stream",
     "text": [
      "No solution.\n"
     ]
    }
   ],
   "source": [
    "!g++ test-case3.cpp -o test-case3\n",
    "!echo \"Test Case 9:\"    \n",
    "!echo 1 4 4 | test-case3.exe"
   ]
  }
 ],
 "metadata": {
  "kernelspec": {
   "display_name": "base",
   "language": "python",
   "name": "python3"
  },
  "language_info": {
   "codemirror_mode": {
    "name": "ipython",
    "version": 3
   },
   "file_extension": ".py",
   "mimetype": "text/x-python",
   "name": "python",
   "nbconvert_exporter": "python",
   "pygments_lexer": "ipython3",
   "version": "3.11.9"
  }
 },
 "nbformat": 4,
 "nbformat_minor": 5
}
